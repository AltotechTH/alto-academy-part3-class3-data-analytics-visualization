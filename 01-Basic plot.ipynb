{
 "cells": [
  {
   "cell_type": "code",
   "execution_count": null,
   "metadata": {},
   "outputs": [],
   "source": [
    "!pip install -r requirements.txt"
   ]
  },
  {
   "cell_type": "code",
   "execution_count": 2,
   "metadata": {},
   "outputs": [],
   "source": [
    "# Step 1: Import the necessary libraries\n",
    "import pandas as pd\n",
    "import numpy as np\n",
    "import chart_studio.plotly as py\n",
    "import cufflinks as cf\n",
    "import seaborn as sns\n",
    "import plotly.express as px\n",
    "\n",
    "%matplotlib inline"
   ]
  },
  {
   "cell_type": "code",
   "execution_count": 3,
   "metadata": {},
   "outputs": [
    {
     "data": {
      "text/html": [
       "        <script type=\"text/javascript\">\n",
       "        window.PlotlyConfig = {MathJaxConfig: 'local'};\n",
       "        if (window.MathJax && window.MathJax.Hub && window.MathJax.Hub.Config) {window.MathJax.Hub.Config({SVG: {font: \"STIX-Web\"}});}\n",
       "        if (typeof require !== 'undefined') {\n",
       "        require.undef(\"plotly\");\n",
       "        requirejs.config({\n",
       "            paths: {\n",
       "                'plotly': ['https://cdn.plot.ly/plotly-2.26.0.min']\n",
       "            }\n",
       "        });\n",
       "        require(['plotly'], function(Plotly) {\n",
       "            window._Plotly = Plotly;\n",
       "        });\n",
       "        }\n",
       "        </script>\n",
       "        "
      ]
     },
     "metadata": {},
     "output_type": "display_data"
    },
    {
     "data": {
      "text/html": [
       "        <script type=\"text/javascript\">\n",
       "        window.PlotlyConfig = {MathJaxConfig: 'local'};\n",
       "        if (window.MathJax && window.MathJax.Hub && window.MathJax.Hub.Config) {window.MathJax.Hub.Config({SVG: {font: \"STIX-Web\"}});}\n",
       "        if (typeof require !== 'undefined') {\n",
       "        require.undef(\"plotly\");\n",
       "        requirejs.config({\n",
       "            paths: {\n",
       "                'plotly': ['https://cdn.plot.ly/plotly-2.26.0.min']\n",
       "            }\n",
       "        });\n",
       "        require(['plotly'], function(Plotly) {\n",
       "            window._Plotly = Plotly;\n",
       "        });\n",
       "        }\n",
       "        </script>\n",
       "        "
      ]
     },
     "metadata": {},
     "output_type": "display_data"
    }
   ],
   "source": [
    "from plotly.offline import download_plotlyjs, init_notebook_mode, plot, iplot\n",
    "init_notebook_mode(connected=True)\n",
    "\n",
    "cf.go_offline()"
   ]
  },
  {
   "cell_type": "code",
   "execution_count": 4,
   "metadata": {},
   "outputs": [
    {
     "data": {
      "text/plain": [
       "array([[-0.37277157, -1.30204589,  2.06539325,  0.75711234],\n",
       "       [-0.55198345, -0.35735431, -0.69416378,  0.14133049],\n",
       "       [ 1.04720987,  0.03555247, -0.49835468,  0.3783361 ],\n",
       "       [-0.9340642 ,  0.00868413,  0.41332154, -1.5695564 ],\n",
       "       [ 0.39468288,  0.74543869,  0.51837794,  1.38192656],\n",
       "       [-0.07638965,  2.14571866,  0.10316206,  0.8231538 ],\n",
       "       [-1.59545076,  1.36536301, -0.18487934,  0.66022349],\n",
       "       [-2.04794101,  0.21346771,  0.97538127,  0.57838763],\n",
       "       [-1.23043545,  0.24635204, -0.75978509, -0.12379539],\n",
       "       [-0.71648102, -0.35559967, -0.80583811,  0.01865955],\n",
       "       [-1.35802172, -0.54502876,  1.3075897 , -1.99229215],\n",
       "       [ 1.56358057,  1.21965154, -0.23092655, -1.77460988],\n",
       "       [ 0.19777706, -0.17414111, -1.14463881, -0.80942865],\n",
       "       [ 0.96362335, -0.68069823,  2.54779016, -1.38537243],\n",
       "       [ 0.38967669, -0.13910694, -1.12670379,  1.31869309],\n",
       "       [ 0.89467291,  0.13455492, -1.32542551,  0.67298376],\n",
       "       [-0.52990642,  0.86951219,  1.97478411, -1.18253267],\n",
       "       [ 1.12957202, -0.47701741,  1.07635089,  0.71129525],\n",
       "       [-0.40454154,  0.20416518,  0.0365514 , -2.4012715 ],\n",
       "       [ 2.69460268,  1.93285764,  0.43464566,  2.45563541],\n",
       "       [ 1.01197996,  2.12876356, -0.3809002 , -0.45749922],\n",
       "       [ 0.13798957,  0.72191636, -0.80088224,  0.27961895],\n",
       "       [ 1.33494618, -0.53405471,  1.0058356 ,  0.67389685],\n",
       "       [ 1.31982383, -0.31496643,  1.03116177, -0.2563693 ],\n",
       "       [ 1.34762028, -0.26834621,  0.17506699, -0.06691619],\n",
       "       [-0.95225689,  1.33887144,  0.46502231, -1.67552506],\n",
       "       [-0.50857457,  0.97603654, -0.87167605, -0.66116351],\n",
       "       [-0.22367236, -0.24329965,  1.19758227,  0.46796175],\n",
       "       [ 1.43988938,  0.53656126,  0.8869853 , -2.42096583],\n",
       "       [-0.70993365,  1.97482953,  1.64726959, -0.59919239],\n",
       "       [ 0.82689094, -1.08672931,  0.76233171,  0.56575197],\n",
       "       [ 0.22286015,  0.71330721,  0.64829531,  0.11602606],\n",
       "       [-0.55049159, -0.96772766, -1.22348693,  0.94584414],\n",
       "       [ 0.28779376,  0.1766258 ,  2.15159224, -0.12764901],\n",
       "       [-1.28215683, -0.08733319,  1.95837733, -1.02699422],\n",
       "       [-0.47673154,  2.20229261,  0.18792012, -0.87984199],\n",
       "       [ 0.29506073, -0.00980958, -0.19073125, -1.06605773],\n",
       "       [ 0.2754217 ,  0.50562964,  0.48141804,  1.11582047],\n",
       "       [-1.43553474, -0.34785105,  0.55810359, -1.33307958],\n",
       "       [-0.9367466 , -1.12613021, -0.43836316, -0.54938971],\n",
       "       [ 1.27848892, -0.08785011,  0.35109237,  0.637123  ],\n",
       "       [ 1.15010488,  1.7610431 , -0.18965672, -0.52167606],\n",
       "       [ 0.58386951, -0.63618852, -1.27408645, -0.30095937],\n",
       "       [-0.67413332,  1.35594701, -0.02173757,  0.06776048],\n",
       "       [ 0.77253943,  0.33668725,  0.06572861,  0.49275645],\n",
       "       [ 0.40164817, -0.290099  , -0.59854251, -0.72708162],\n",
       "       [ 0.78798367,  1.20220792,  0.26001199,  0.20665069],\n",
       "       [ 1.40670505,  0.49343636,  1.43797361,  1.26018935],\n",
       "       [ 1.06953626, -0.45312661, -0.40462406,  0.58307057],\n",
       "       [-0.87737747,  0.12317925,  0.92073405,  1.15827598]])"
      ]
     },
     "execution_count": 4,
     "metadata": {},
     "output_type": "execute_result"
    }
   ],
   "source": [
    "# Step 2: Create a NumPy array with random data\n",
    "arr_1 = np.random.randn(50, 4)\n",
    "arr_1"
   ]
  },
  {
   "cell_type": "code",
   "execution_count": 5,
   "metadata": {},
   "outputs": [
    {
     "data": {
      "text/html": [
       "<div>\n",
       "<style scoped>\n",
       "    .dataframe tbody tr th:only-of-type {\n",
       "        vertical-align: middle;\n",
       "    }\n",
       "\n",
       "    .dataframe tbody tr th {\n",
       "        vertical-align: top;\n",
       "    }\n",
       "\n",
       "    .dataframe thead th {\n",
       "        text-align: right;\n",
       "    }\n",
       "</style>\n",
       "<table border=\"1\" class=\"dataframe\">\n",
       "  <thead>\n",
       "    <tr style=\"text-align: right;\">\n",
       "      <th></th>\n",
       "      <th>A</th>\n",
       "      <th>B</th>\n",
       "      <th>C</th>\n",
       "      <th>D</th>\n",
       "    </tr>\n",
       "  </thead>\n",
       "  <tbody>\n",
       "    <tr>\n",
       "      <th>0</th>\n",
       "      <td>-0.372772</td>\n",
       "      <td>-1.302046</td>\n",
       "      <td>2.065393</td>\n",
       "      <td>0.757112</td>\n",
       "    </tr>\n",
       "    <tr>\n",
       "      <th>1</th>\n",
       "      <td>-0.551983</td>\n",
       "      <td>-0.357354</td>\n",
       "      <td>-0.694164</td>\n",
       "      <td>0.141330</td>\n",
       "    </tr>\n",
       "    <tr>\n",
       "      <th>2</th>\n",
       "      <td>1.047210</td>\n",
       "      <td>0.035552</td>\n",
       "      <td>-0.498355</td>\n",
       "      <td>0.378336</td>\n",
       "    </tr>\n",
       "    <tr>\n",
       "      <th>3</th>\n",
       "      <td>-0.934064</td>\n",
       "      <td>0.008684</td>\n",
       "      <td>0.413322</td>\n",
       "      <td>-1.569556</td>\n",
       "    </tr>\n",
       "    <tr>\n",
       "      <th>4</th>\n",
       "      <td>0.394683</td>\n",
       "      <td>0.745439</td>\n",
       "      <td>0.518378</td>\n",
       "      <td>1.381927</td>\n",
       "    </tr>\n",
       "    <tr>\n",
       "      <th>5</th>\n",
       "      <td>-0.076390</td>\n",
       "      <td>2.145719</td>\n",
       "      <td>0.103162</td>\n",
       "      <td>0.823154</td>\n",
       "    </tr>\n",
       "    <tr>\n",
       "      <th>6</th>\n",
       "      <td>-1.595451</td>\n",
       "      <td>1.365363</td>\n",
       "      <td>-0.184879</td>\n",
       "      <td>0.660223</td>\n",
       "    </tr>\n",
       "    <tr>\n",
       "      <th>7</th>\n",
       "      <td>-2.047941</td>\n",
       "      <td>0.213468</td>\n",
       "      <td>0.975381</td>\n",
       "      <td>0.578388</td>\n",
       "    </tr>\n",
       "    <tr>\n",
       "      <th>8</th>\n",
       "      <td>-1.230435</td>\n",
       "      <td>0.246352</td>\n",
       "      <td>-0.759785</td>\n",
       "      <td>-0.123795</td>\n",
       "    </tr>\n",
       "    <tr>\n",
       "      <th>9</th>\n",
       "      <td>-0.716481</td>\n",
       "      <td>-0.355600</td>\n",
       "      <td>-0.805838</td>\n",
       "      <td>0.018660</td>\n",
       "    </tr>\n",
       "    <tr>\n",
       "      <th>10</th>\n",
       "      <td>-1.358022</td>\n",
       "      <td>-0.545029</td>\n",
       "      <td>1.307590</td>\n",
       "      <td>-1.992292</td>\n",
       "    </tr>\n",
       "    <tr>\n",
       "      <th>11</th>\n",
       "      <td>1.563581</td>\n",
       "      <td>1.219652</td>\n",
       "      <td>-0.230927</td>\n",
       "      <td>-1.774610</td>\n",
       "    </tr>\n",
       "    <tr>\n",
       "      <th>12</th>\n",
       "      <td>0.197777</td>\n",
       "      <td>-0.174141</td>\n",
       "      <td>-1.144639</td>\n",
       "      <td>-0.809429</td>\n",
       "    </tr>\n",
       "    <tr>\n",
       "      <th>13</th>\n",
       "      <td>0.963623</td>\n",
       "      <td>-0.680698</td>\n",
       "      <td>2.547790</td>\n",
       "      <td>-1.385372</td>\n",
       "    </tr>\n",
       "    <tr>\n",
       "      <th>14</th>\n",
       "      <td>0.389677</td>\n",
       "      <td>-0.139107</td>\n",
       "      <td>-1.126704</td>\n",
       "      <td>1.318693</td>\n",
       "    </tr>\n",
       "    <tr>\n",
       "      <th>15</th>\n",
       "      <td>0.894673</td>\n",
       "      <td>0.134555</td>\n",
       "      <td>-1.325426</td>\n",
       "      <td>0.672984</td>\n",
       "    </tr>\n",
       "    <tr>\n",
       "      <th>16</th>\n",
       "      <td>-0.529906</td>\n",
       "      <td>0.869512</td>\n",
       "      <td>1.974784</td>\n",
       "      <td>-1.182533</td>\n",
       "    </tr>\n",
       "    <tr>\n",
       "      <th>17</th>\n",
       "      <td>1.129572</td>\n",
       "      <td>-0.477017</td>\n",
       "      <td>1.076351</td>\n",
       "      <td>0.711295</td>\n",
       "    </tr>\n",
       "    <tr>\n",
       "      <th>18</th>\n",
       "      <td>-0.404542</td>\n",
       "      <td>0.204165</td>\n",
       "      <td>0.036551</td>\n",
       "      <td>-2.401272</td>\n",
       "    </tr>\n",
       "    <tr>\n",
       "      <th>19</th>\n",
       "      <td>2.694603</td>\n",
       "      <td>1.932858</td>\n",
       "      <td>0.434646</td>\n",
       "      <td>2.455635</td>\n",
       "    </tr>\n",
       "    <tr>\n",
       "      <th>20</th>\n",
       "      <td>1.011980</td>\n",
       "      <td>2.128764</td>\n",
       "      <td>-0.380900</td>\n",
       "      <td>-0.457499</td>\n",
       "    </tr>\n",
       "    <tr>\n",
       "      <th>21</th>\n",
       "      <td>0.137990</td>\n",
       "      <td>0.721916</td>\n",
       "      <td>-0.800882</td>\n",
       "      <td>0.279619</td>\n",
       "    </tr>\n",
       "    <tr>\n",
       "      <th>22</th>\n",
       "      <td>1.334946</td>\n",
       "      <td>-0.534055</td>\n",
       "      <td>1.005836</td>\n",
       "      <td>0.673897</td>\n",
       "    </tr>\n",
       "    <tr>\n",
       "      <th>23</th>\n",
       "      <td>1.319824</td>\n",
       "      <td>-0.314966</td>\n",
       "      <td>1.031162</td>\n",
       "      <td>-0.256369</td>\n",
       "    </tr>\n",
       "    <tr>\n",
       "      <th>24</th>\n",
       "      <td>1.347620</td>\n",
       "      <td>-0.268346</td>\n",
       "      <td>0.175067</td>\n",
       "      <td>-0.066916</td>\n",
       "    </tr>\n",
       "    <tr>\n",
       "      <th>25</th>\n",
       "      <td>-0.952257</td>\n",
       "      <td>1.338871</td>\n",
       "      <td>0.465022</td>\n",
       "      <td>-1.675525</td>\n",
       "    </tr>\n",
       "    <tr>\n",
       "      <th>26</th>\n",
       "      <td>-0.508575</td>\n",
       "      <td>0.976037</td>\n",
       "      <td>-0.871676</td>\n",
       "      <td>-0.661164</td>\n",
       "    </tr>\n",
       "    <tr>\n",
       "      <th>27</th>\n",
       "      <td>-0.223672</td>\n",
       "      <td>-0.243300</td>\n",
       "      <td>1.197582</td>\n",
       "      <td>0.467962</td>\n",
       "    </tr>\n",
       "    <tr>\n",
       "      <th>28</th>\n",
       "      <td>1.439889</td>\n",
       "      <td>0.536561</td>\n",
       "      <td>0.886985</td>\n",
       "      <td>-2.420966</td>\n",
       "    </tr>\n",
       "    <tr>\n",
       "      <th>29</th>\n",
       "      <td>-0.709934</td>\n",
       "      <td>1.974830</td>\n",
       "      <td>1.647270</td>\n",
       "      <td>-0.599192</td>\n",
       "    </tr>\n",
       "    <tr>\n",
       "      <th>30</th>\n",
       "      <td>0.826891</td>\n",
       "      <td>-1.086729</td>\n",
       "      <td>0.762332</td>\n",
       "      <td>0.565752</td>\n",
       "    </tr>\n",
       "    <tr>\n",
       "      <th>31</th>\n",
       "      <td>0.222860</td>\n",
       "      <td>0.713307</td>\n",
       "      <td>0.648295</td>\n",
       "      <td>0.116026</td>\n",
       "    </tr>\n",
       "    <tr>\n",
       "      <th>32</th>\n",
       "      <td>-0.550492</td>\n",
       "      <td>-0.967728</td>\n",
       "      <td>-1.223487</td>\n",
       "      <td>0.945844</td>\n",
       "    </tr>\n",
       "    <tr>\n",
       "      <th>33</th>\n",
       "      <td>0.287794</td>\n",
       "      <td>0.176626</td>\n",
       "      <td>2.151592</td>\n",
       "      <td>-0.127649</td>\n",
       "    </tr>\n",
       "    <tr>\n",
       "      <th>34</th>\n",
       "      <td>-1.282157</td>\n",
       "      <td>-0.087333</td>\n",
       "      <td>1.958377</td>\n",
       "      <td>-1.026994</td>\n",
       "    </tr>\n",
       "    <tr>\n",
       "      <th>35</th>\n",
       "      <td>-0.476732</td>\n",
       "      <td>2.202293</td>\n",
       "      <td>0.187920</td>\n",
       "      <td>-0.879842</td>\n",
       "    </tr>\n",
       "    <tr>\n",
       "      <th>36</th>\n",
       "      <td>0.295061</td>\n",
       "      <td>-0.009810</td>\n",
       "      <td>-0.190731</td>\n",
       "      <td>-1.066058</td>\n",
       "    </tr>\n",
       "    <tr>\n",
       "      <th>37</th>\n",
       "      <td>0.275422</td>\n",
       "      <td>0.505630</td>\n",
       "      <td>0.481418</td>\n",
       "      <td>1.115820</td>\n",
       "    </tr>\n",
       "    <tr>\n",
       "      <th>38</th>\n",
       "      <td>-1.435535</td>\n",
       "      <td>-0.347851</td>\n",
       "      <td>0.558104</td>\n",
       "      <td>-1.333080</td>\n",
       "    </tr>\n",
       "    <tr>\n",
       "      <th>39</th>\n",
       "      <td>-0.936747</td>\n",
       "      <td>-1.126130</td>\n",
       "      <td>-0.438363</td>\n",
       "      <td>-0.549390</td>\n",
       "    </tr>\n",
       "    <tr>\n",
       "      <th>40</th>\n",
       "      <td>1.278489</td>\n",
       "      <td>-0.087850</td>\n",
       "      <td>0.351092</td>\n",
       "      <td>0.637123</td>\n",
       "    </tr>\n",
       "    <tr>\n",
       "      <th>41</th>\n",
       "      <td>1.150105</td>\n",
       "      <td>1.761043</td>\n",
       "      <td>-0.189657</td>\n",
       "      <td>-0.521676</td>\n",
       "    </tr>\n",
       "    <tr>\n",
       "      <th>42</th>\n",
       "      <td>0.583870</td>\n",
       "      <td>-0.636189</td>\n",
       "      <td>-1.274086</td>\n",
       "      <td>-0.300959</td>\n",
       "    </tr>\n",
       "    <tr>\n",
       "      <th>43</th>\n",
       "      <td>-0.674133</td>\n",
       "      <td>1.355947</td>\n",
       "      <td>-0.021738</td>\n",
       "      <td>0.067760</td>\n",
       "    </tr>\n",
       "    <tr>\n",
       "      <th>44</th>\n",
       "      <td>0.772539</td>\n",
       "      <td>0.336687</td>\n",
       "      <td>0.065729</td>\n",
       "      <td>0.492756</td>\n",
       "    </tr>\n",
       "    <tr>\n",
       "      <th>45</th>\n",
       "      <td>0.401648</td>\n",
       "      <td>-0.290099</td>\n",
       "      <td>-0.598543</td>\n",
       "      <td>-0.727082</td>\n",
       "    </tr>\n",
       "    <tr>\n",
       "      <th>46</th>\n",
       "      <td>0.787984</td>\n",
       "      <td>1.202208</td>\n",
       "      <td>0.260012</td>\n",
       "      <td>0.206651</td>\n",
       "    </tr>\n",
       "    <tr>\n",
       "      <th>47</th>\n",
       "      <td>1.406705</td>\n",
       "      <td>0.493436</td>\n",
       "      <td>1.437974</td>\n",
       "      <td>1.260189</td>\n",
       "    </tr>\n",
       "    <tr>\n",
       "      <th>48</th>\n",
       "      <td>1.069536</td>\n",
       "      <td>-0.453127</td>\n",
       "      <td>-0.404624</td>\n",
       "      <td>0.583071</td>\n",
       "    </tr>\n",
       "    <tr>\n",
       "      <th>49</th>\n",
       "      <td>-0.877377</td>\n",
       "      <td>0.123179</td>\n",
       "      <td>0.920734</td>\n",
       "      <td>1.158276</td>\n",
       "    </tr>\n",
       "  </tbody>\n",
       "</table>\n",
       "</div>"
      ],
      "text/plain": [
       "           A         B         C         D\n",
       "0  -0.372772 -1.302046  2.065393  0.757112\n",
       "1  -0.551983 -0.357354 -0.694164  0.141330\n",
       "2   1.047210  0.035552 -0.498355  0.378336\n",
       "3  -0.934064  0.008684  0.413322 -1.569556\n",
       "4   0.394683  0.745439  0.518378  1.381927\n",
       "5  -0.076390  2.145719  0.103162  0.823154\n",
       "6  -1.595451  1.365363 -0.184879  0.660223\n",
       "7  -2.047941  0.213468  0.975381  0.578388\n",
       "8  -1.230435  0.246352 -0.759785 -0.123795\n",
       "9  -0.716481 -0.355600 -0.805838  0.018660\n",
       "10 -1.358022 -0.545029  1.307590 -1.992292\n",
       "11  1.563581  1.219652 -0.230927 -1.774610\n",
       "12  0.197777 -0.174141 -1.144639 -0.809429\n",
       "13  0.963623 -0.680698  2.547790 -1.385372\n",
       "14  0.389677 -0.139107 -1.126704  1.318693\n",
       "15  0.894673  0.134555 -1.325426  0.672984\n",
       "16 -0.529906  0.869512  1.974784 -1.182533\n",
       "17  1.129572 -0.477017  1.076351  0.711295\n",
       "18 -0.404542  0.204165  0.036551 -2.401272\n",
       "19  2.694603  1.932858  0.434646  2.455635\n",
       "20  1.011980  2.128764 -0.380900 -0.457499\n",
       "21  0.137990  0.721916 -0.800882  0.279619\n",
       "22  1.334946 -0.534055  1.005836  0.673897\n",
       "23  1.319824 -0.314966  1.031162 -0.256369\n",
       "24  1.347620 -0.268346  0.175067 -0.066916\n",
       "25 -0.952257  1.338871  0.465022 -1.675525\n",
       "26 -0.508575  0.976037 -0.871676 -0.661164\n",
       "27 -0.223672 -0.243300  1.197582  0.467962\n",
       "28  1.439889  0.536561  0.886985 -2.420966\n",
       "29 -0.709934  1.974830  1.647270 -0.599192\n",
       "30  0.826891 -1.086729  0.762332  0.565752\n",
       "31  0.222860  0.713307  0.648295  0.116026\n",
       "32 -0.550492 -0.967728 -1.223487  0.945844\n",
       "33  0.287794  0.176626  2.151592 -0.127649\n",
       "34 -1.282157 -0.087333  1.958377 -1.026994\n",
       "35 -0.476732  2.202293  0.187920 -0.879842\n",
       "36  0.295061 -0.009810 -0.190731 -1.066058\n",
       "37  0.275422  0.505630  0.481418  1.115820\n",
       "38 -1.435535 -0.347851  0.558104 -1.333080\n",
       "39 -0.936747 -1.126130 -0.438363 -0.549390\n",
       "40  1.278489 -0.087850  0.351092  0.637123\n",
       "41  1.150105  1.761043 -0.189657 -0.521676\n",
       "42  0.583870 -0.636189 -1.274086 -0.300959\n",
       "43 -0.674133  1.355947 -0.021738  0.067760\n",
       "44  0.772539  0.336687  0.065729  0.492756\n",
       "45  0.401648 -0.290099 -0.598543 -0.727082\n",
       "46  0.787984  1.202208  0.260012  0.206651\n",
       "47  1.406705  0.493436  1.437974  1.260189\n",
       "48  1.069536 -0.453127 -0.404624  0.583071\n",
       "49 -0.877377  0.123179  0.920734  1.158276"
      ]
     },
     "execution_count": 5,
     "metadata": {},
     "output_type": "execute_result"
    }
   ],
   "source": [
    "# Step 3: Create a DataFrame from the NumPy array with column names\n",
    "df_1 = pd.DataFrame(arr_1, columns=['A', 'B', 'C', 'D'])\n",
    "df_1"
   ]
  },
  {
   "cell_type": "code",
   "execution_count": 6,
   "metadata": {},
   "outputs": [
    {
     "name": "stdout",
     "output_type": "stream",
     "text": [
      "DataFrame Sample:\n",
      "          A         B         C         D\n",
      "0 -0.372772 -1.302046  2.065393  0.757112\n",
      "1 -0.551983 -0.357354 -0.694164  0.141330\n",
      "2  1.047210  0.035552 -0.498355  0.378336\n",
      "3 -0.934064  0.008684  0.413322 -1.569556\n",
      "4  0.394683  0.745439  0.518378  1.381927\n"
     ]
    }
   ],
   "source": [
    "# Step 4: Display the first few rows of the DataFrame\n",
    "print(\"DataFrame Sample:\")\n",
    "print(df_1.head())"
   ]
  },
  {
   "cell_type": "code",
   "execution_count": 7,
   "metadata": {},
   "outputs": [
    {
     "name": "stdout",
     "output_type": "stream",
     "text": [
      "\n",
      "Creating Pandas Plots:\n",
      "\n",
      "Press any key to continue...\n"
     ]
    },
    {
     "data": {
      "text/plain": [
       "''"
      ]
     },
     "execution_count": 7,
     "metadata": {},
     "output_type": "execute_result"
    },
    {
     "data": {
      "image/png": "[encoded data removed]",
      "text/plain": [
       "<Figure size 640x480 with 1 Axes>"
      ]
     },
     "metadata": {},
     "output_type": "display_data"
    }
   ],
   "source": [
    "\n",
    "# Step 5: Create traditional Pandas plots\n",
    "print(\"\\nCreating Pandas Plots:\")\n",
    "df_1.plot()  # Create a Pandas plot\n",
    "print(\"\\nPress any key to continue...\")\n",
    "input()  # Pause for user input"
   ]
  },
  {
   "cell_type": "code",
   "execution_count": 8,
   "metadata": {},
   "outputs": [
    {
     "name": "stdout",
     "output_type": "stream",
     "text": [
      "\n",
      "Creating Interactive Plotly Plot:\n"
     ]
    },
    {
     "data": {
      "application/vnd.plotly.v1+json": {
       "config": {
        "plotlyServerURL": "https://plot.ly"
       },
       "data": [
        {
         "hovertemplate": "A=%{x}<br>B=%{y}<extra></extra>",
         "legendgroup": "",
         "marker": {
          "color": "#636efa",
          "symbol": "circle"
         },
         "mode": "markers",
         "name": "",
         "orientation": "v",
         "showlegend": false,
         "type": "scatter",
         "x": [
          -0.3727715678033577,
          -0.5519834492589083,
          1.0472098664426779,
          -0.93406419530831,
          0.39468287583674533,
          -0.07638965051071268,
          -1.5954507631449628,
          -2.047941014998162,
          -1.2304354478447597,
          -0.7164810193591911,
          -1.358021723716203,
          1.56358056613092,
          0.19777705777758456,
          0.9636233508282855,
          0.38967669218330275,
          0.8946729054090005,
          -0.5299064179126575,
          1.1295720151707909,
          -0.40454153894225364,
          2.6946026848127214,
          1.0119799561102483,
          0.1379895738554614,
          1.3349461750972536,
          1.3198238252026917,
          1.3476202767300742,
          -0.9522568940366845,
          -0.5085745708957891,
          -0.22367235684607845,
          1.4398893830418995,
          -0.7099336455798498,
          0.8268909370455656,
          0.22286015293621014,
          -0.5504915885332485,
          0.28779375831327303,
          -1.282156829780207,
          -0.47673153662257767,
          0.2950607311865968,
          0.2754216951792058,
          -1.4355347426815859,
          -0.9367466024897828,
          1.2784889247782163,
          1.1501048842492065,
          0.5838695143731807,
          -0.6741333245785835,
          0.7725394336924448,
          0.4016481661882381,
          0.7879836672284927,
          1.4067050493210624,
          1.0695362566930307,
          -0.8773774703839174
         ],
         "xaxis": "x",
         "y": [
          -1.3020458938794728,
          -0.35735430948459657,
          0.03555247022744196,
          0.008684129023639794,
          0.7454386942500978,
          2.1457186574459297,
          1.365363012263689,
          0.21346771210669802,
          0.24635204081415832,
          -0.35559967019980415,
          -0.5450287611518704,
          1.2196515357919469,
          -0.17414111477780184,
          -0.6806982252398607,
          -0.13910693557550843,
          0.13455492175151343,
          0.8695121902904617,
          -0.47701740721783886,
          0.20416517754820776,
          1.9328576429763613,
          2.1287635559711156,
          0.7219163612728566,
          -0.5340547080068176,
          -0.3149664316321748,
          -0.26834621044532,
          1.338871439229367,
          0.9760365367421444,
          -0.2432996453282793,
          0.5365612572053157,
          1.9748295309203356,
          -1.0867293105603901,
          0.7133072140712012,
          -0.9677276596713297,
          0.1766257975704073,
          -0.08733319101591663,
          2.2022926079613008,
          -0.009809579339159824,
          0.5056296408014016,
          -0.3478510501931941,
          -1.1261302090127585,
          -0.0878501068170941,
          1.7610431010243626,
          -0.6361885237147484,
          1.355947007672313,
          0.33668724692377694,
          -0.2900989975031926,
          1.2022079200514417,
          0.4934363580162387,
          -0.45312661073227084,
          0.1231792512780067
         ],
         "yaxis": "y"
        }
       ],
       "layout": {
        "legend": {
         "tracegroupgap": 0
        },
        "template": {
         "data": {
          "bar": [
           {
            "error_x": {
             "color": "#2a3f5f"
            },
            "error_y": {
             "color": "#2a3f5f"
            },
            "marker": {
             "line": {
              "color": "#E5ECF6",
              "width": 0.5
             },
             "pattern": {
              "fillmode": "overlay",
              "size": 10,
              "solidity": 0.2
             }
            },
            "type": "bar"
           }
          ],
          "barpolar": [
           {
            "marker": {
             "line": {
              "color": "#E5ECF6",
              "width": 0.5
             },
             "pattern": {
              "fillmode": "overlay",
              "size": 10,
              "solidity": 0.2
             }
            },
            "type": "barpolar"
           }
          ],
          "carpet": [
           {
            "aaxis": {
             "endlinecolor": "#2a3f5f",
             "gridcolor": "white",
             "linecolor": "white",
             "minorgridcolor": "white",
             "startlinecolor": "#2a3f5f"
            },
            "baxis": {
             "endlinecolor": "#2a3f5f",
             "gridcolor": "white",
             "linecolor": "white",
             "minorgridcolor": "white",
             "startlinecolor": "#2a3f5f"
            },
            "type": "carpet"
           }
          ],
          "choropleth": [
           {
            "colorbar": {
             "outlinewidth": 0,
             "ticks": ""
            },
            "type": "choropleth"
           }
          ],
          "contour": [
           {
            "colorbar": {
             "outlinewidth": 0,
             "ticks": ""
            },
            "colorscale": [
             [
              0,
              "#0d0887"
             ],
             [
              0.1111111111111111,
              "#46039f"
             ],
             [
              0.2222222222222222,
              "#7201a8"
             ],
             [
              0.3333333333333333,
              "#9c179e"
             ],
             [
              0.4444444444444444,
              "#bd3786"
             ],
             [
              0.5555555555555556,
              "#d8576b"
             ],
             [
              0.6666666666666666,
              "#ed7953"
             ],
             [
              0.7777777777777778,
              "#fb9f3a"
             ],
             [
              0.8888888888888888,
              "#fdca26"
             ],
             [
              1,
              "#f0f921"
             ]
            ],
            "type": "contour"
           }
          ],
          "contourcarpet": [
           {
            "colorbar": {
             "outlinewidth": 0,
             "ticks": ""
            },
            "type": "contourcarpet"
           }
          ],
          "heatmap": [
           {
            "colorbar": {
             "outlinewidth": 0,
             "ticks": ""
            },
            "colorscale": [
             [
              0,
              "#0d0887"
             ],
             [
              0.1111111111111111,
              "#46039f"
             ],
             [
              0.2222222222222222,
              "#7201a8"
             ],
             [
              0.3333333333333333,
              "#9c179e"
             ],
             [
              0.4444444444444444,
              "#bd3786"
             ],
             [
              0.5555555555555556,
              "#d8576b"
             ],
             [
              0.6666666666666666,
              "#ed7953"
             ],
             [
              0.7777777777777778,
              "#fb9f3a"
             ],
             [
              0.8888888888888888,
              "#fdca26"
             ],
             [
              1,
              "#f0f921"
             ]
            ],
            "type": "heatmap"
           }
          ],
          "heatmapgl": [
           {
            "colorbar": {
             "outlinewidth": 0,
             "ticks": ""
            },
            "colorscale": [
             [
              0,
              "#0d0887"
             ],
             [
              0.1111111111111111,
              "#46039f"
             ],
             [
              0.2222222222222222,
              "#7201a8"
             ],
             [
              0.3333333333333333,
              "#9c179e"
             ],
             [
              0.4444444444444444,
              "#bd3786"
             ],
             [
              0.5555555555555556,
              "#d8576b"
             ],
             [
              0.6666666666666666,
              "#ed7953"
             ],
             [
              0.7777777777777778,
              "#fb9f3a"
             ],
             [
              0.8888888888888888,
              "#fdca26"
             ],
             [
              1,
              "#f0f921"
             ]
            ],
            "type": "heatmapgl"
           }
          ],
          "histogram": [
           {
            "marker": {
             "pattern": {
              "fillmode": "overlay",
              "size": 10,
              "solidity": 0.2
             }
            },
            "type": "histogram"
           }
          ],
          "histogram2d": [
           {
            "colorbar": {
             "outlinewidth": 0,
             "ticks": ""
            },
            "colorscale": [
             [
              0,
              "#0d0887"
             ],
             [
              0.1111111111111111,
              "#46039f"
             ],
             [
              0.2222222222222222,
              "#7201a8"
             ],
             [
              0.3333333333333333,
              "#9c179e"
             ],
             [
              0.4444444444444444,
              "#bd3786"
             ],
             [
              0.5555555555555556,
              "#d8576b"
             ],
             [
              0.6666666666666666,
              "#ed7953"
             ],
             [
              0.7777777777777778,
              "#fb9f3a"
             ],
             [
              0.8888888888888888,
              "#fdca26"
             ],
             [
              1,
              "#f0f921"
             ]
            ],
            "type": "histogram2d"
           }
          ],
          "histogram2dcontour": [
           {
            "colorbar": {
             "outlinewidth": 0,
             "ticks": ""
            },
            "colorscale": [
             [
              0,
              "#0d0887"
             ],
             [
              0.1111111111111111,
              "#46039f"
             ],
             [
              0.2222222222222222,
              "#7201a8"
             ],
             [
              0.3333333333333333,
              "#9c179e"
             ],
             [
              0.4444444444444444,
              "#bd3786"
             ],
             [
              0.5555555555555556,
              "#d8576b"
             ],
             [
              0.6666666666666666,
              "#ed7953"
             ],
             [
              0.7777777777777778,
              "#fb9f3a"
             ],
             [
              0.8888888888888888,
              "#fdca26"
             ],
             [
              1,
              "#f0f921"
             ]
            ],
            "type": "histogram2dcontour"
           }
          ],
          "mesh3d": [
           {
            "colorbar": {
             "outlinewidth": 0,
             "ticks": ""
            },
            "type": "mesh3d"
           }
          ],
          "parcoords": [
           {
            "line": {
             "colorbar": {
              "outlinewidth": 0,
              "ticks": ""
             }
            },
            "type": "parcoords"
           }
          ],
          "pie": [
           {
            "automargin": true,
            "type": "pie"
           }
          ],
          "scatter": [
           {
            "fillpattern": {
             "fillmode": "overlay",
             "size": 10,
             "solidity": 0.2
            },
            "type": "scatter"
           }
          ],
          "scatter3d": [
           {
            "line": {
             "colorbar": {
              "outlinewidth": 0,
              "ticks": ""
             }
            },
            "marker": {
             "colorbar": {
              "outlinewidth": 0,
              "ticks": ""
             }
            },
            "type": "scatter3d"
           }
          ],
          "scattercarpet": [
           {
            "marker": {
             "colorbar": {
              "outlinewidth": 0,
              "ticks": ""
             }
            },
            "type": "scattercarpet"
           }
          ],
          "scattergeo": [
           {
            "marker": {
             "colorbar": {
              "outlinewidth": 0,
              "ticks": ""
             }
            },
            "type": "scattergeo"
           }
          ],
          "scattergl": [
           {
            "marker": {
             "colorbar": {
              "outlinewidth": 0,
              "ticks": ""
             }
            },
            "type": "scattergl"
           }
          ],
          "scattermapbox": [
           {
            "marker": {
             "colorbar": {
              "outlinewidth": 0,
              "ticks": ""
             }
            },
            "type": "scattermapbox"
           }
          ],
          "scatterpolar": [
           {
            "marker": {
             "colorbar": {
              "outlinewidth": 0,
              "ticks": ""
             }
            },
            "type": "scatterpolar"
           }
          ],
          "scatterpolargl": [
           {
            "marker": {
             "colorbar": {
              "outlinewidth": 0,
              "ticks": ""
             }
            },
            "type": "scatterpolargl"
           }
          ],
          "scatterternary": [
           {
            "marker": {
             "colorbar": {
              "outlinewidth": 0,
              "ticks": ""
             }
            },
            "type": "scatterternary"
           }
          ],
          "surface": [
           {
            "colorbar": {
             "outlinewidth": 0,
             "ticks": ""
            },
            "colorscale": [
             [
              0,
              "#0d0887"
             ],
             [
              0.1111111111111111,
              "#46039f"
             ],
             [
              0.2222222222222222,
              "#7201a8"
             ],
             [
              0.3333333333333333,
              "#9c179e"
             ],
             [
              0.4444444444444444,
              "#bd3786"
             ],
             [
              0.5555555555555556,
              "#d8576b"
             ],
             [
              0.6666666666666666,
              "#ed7953"
             ],
             [
              0.7777777777777778,
              "#fb9f3a"
             ],
             [
              0.8888888888888888,
              "#fdca26"
             ],
             [
              1,
              "#f0f921"
             ]
            ],
            "type": "surface"
           }
          ],
          "table": [
           {
            "cells": {
             "fill": {
              "color": "#EBF0F8"
             },
             "line": {
              "color": "white"
             }
            },
            "header": {
             "fill": {
              "color": "#C8D4E3"
             },
             "line": {
              "color": "white"
             }
            },
            "type": "table"
           }
          ]
         },
         "layout": {
          "annotationdefaults": {
           "arrowcolor": "#2a3f5f",
           "arrowhead": 0,
           "arrowwidth": 1
          },
          "autotypenumbers": "strict",
          "coloraxis": {
           "colorbar": {
            "outlinewidth": 0,
            "ticks": ""
           }
          },
          "colorscale": {
           "diverging": [
            [
             0,
             "#8e0152"
            ],
            [
             0.1,
             "#c51b7d"
            ],
            [
             0.2,
             "#de77ae"
            ],
            [
             0.3,
             "#f1b6da"
            ],
            [
             0.4,
             "#fde0ef"
            ],
            [
             0.5,
             "#f7f7f7"
            ],
            [
             0.6,
             "#e6f5d0"
            ],
            [
             0.7,
             "#b8e186"
            ],
            [
             0.8,
             "#7fbc41"
            ],
            [
             0.9,
             "#4d9221"
            ],
            [
             1,
             "#276419"
            ]
           ],
           "sequential": [
            [
             0,
             "#0d0887"
            ],
            [
             0.1111111111111111,
             "#46039f"
            ],
            [
             0.2222222222222222,
             "#7201a8"
            ],
            [
             0.3333333333333333,
             "#9c179e"
            ],
            [
             0.4444444444444444,
             "#bd3786"
            ],
            [
             0.5555555555555556,
             "#d8576b"
            ],
            [
             0.6666666666666666,
             "#ed7953"
            ],
            [
             0.7777777777777778,
             "#fb9f3a"
            ],
            [
             0.8888888888888888,
             "#fdca26"
            ],
            [
             1,
             "#f0f921"
            ]
           ],
           "sequentialminus": [
            [
             0,
             "#0d0887"
            ],
            [
             0.1111111111111111,
             "#46039f"
            ],
            [
             0.2222222222222222,
             "#7201a8"
            ],
            [
             0.3333333333333333,
             "#9c179e"
            ],
            [
             0.4444444444444444,
             "#bd3786"
            ],
            [
             0.5555555555555556,
             "#d8576b"
            ],
            [
             0.6666666666666666,
             "#ed7953"
            ],
            [
             0.7777777777777778,
             "#fb9f3a"
            ],
            [
             0.8888888888888888,
             "#fdca26"
            ],
            [
             1,
             "#f0f921"
            ]
           ]
          },
          "colorway": [
           "#636efa",
           "#EF553B",
           "#00cc96",
           "#ab63fa",
           "#FFA15A",
           "#19d3f3",
           "#FF6692",
           "#B6E880",
           "#FF97FF",
           "#FECB52"
          ],
          "font": {
           "color": "#2a3f5f"
          },
          "geo": {
           "bgcolor": "white",
           "lakecolor": "white",
           "landcolor": "#E5ECF6",
           "showlakes": true,
           "showland": true,
           "subunitcolor": "white"
          },
          "hoverlabel": {
           "align": "left"
          },
          "hovermode": "closest",
          "mapbox": {
           "style": "light"
          },
          "paper_bgcolor": "white",
          "plot_bgcolor": "#E5ECF6",
          "polar": {
           "angularaxis": {
            "gridcolor": "white",
            "linecolor": "white",
            "ticks": ""
           },
           "bgcolor": "#E5ECF6",
           "radialaxis": {
            "gridcolor": "white",
            "linecolor": "white",
            "ticks": ""
           }
          },
          "scene": {
           "xaxis": {
            "backgroundcolor": "#E5ECF6",
            "gridcolor": "white",
            "gridwidth": 2,
            "linecolor": "white",
            "showbackground": true,
            "ticks": "",
            "zerolinecolor": "white"
           },
           "yaxis": {
            "backgroundcolor": "#E5ECF6",
            "gridcolor": "white",
            "gridwidth": 2,
            "linecolor": "white",
            "showbackground": true,
            "ticks": "",
            "zerolinecolor": "white"
           },
           "zaxis": {
            "backgroundcolor": "#E5ECF6",
            "gridcolor": "white",
            "gridwidth": 2,
            "linecolor": "white",
            "showbackground": true,
            "ticks": "",
            "zerolinecolor": "white"
           }
          },
          "shapedefaults": {
           "line": {
            "color": "#2a3f5f"
           }
          },
          "ternary": {
           "aaxis": {
            "gridcolor": "white",
            "linecolor": "white",
            "ticks": ""
           },
           "baxis": {
            "gridcolor": "white",
            "linecolor": "white",
            "ticks": ""
           },
           "bgcolor": "#E5ECF6",
           "caxis": {
            "gridcolor": "white",
            "linecolor": "white",
            "ticks": ""
           }
          },
          "title": {
           "x": 0.05
          },
          "xaxis": {
           "automargin": true,
           "gridcolor": "white",
           "linecolor": "white",
           "ticks": "",
           "title": {
            "standoff": 15
           },
           "zerolinecolor": "white",
           "zerolinewidth": 2
          },
          "yaxis": {
           "automargin": true,
           "gridcolor": "white",
           "linecolor": "white",
           "ticks": "",
           "title": {
            "standoff": 15
           },
           "zerolinecolor": "white",
           "zerolinewidth": 2
          }
         }
        },
        "title": {
         "text": "Interactive Scatter Plot"
        },
        "xaxis": {
         "anchor": "y",
         "domain": [
          0,
          1
         ],
         "title": {
          "text": "A"
         }
        },
        "yaxis": {
         "anchor": "x",
         "domain": [
          0,
          1
         ],
         "title": {
          "text": "B"
         }
        }
       }
      },
      "text/html": [
       "<div>                            <div id=\"bf3acb4b-61ae-4abb-bea6-8d0bd18ca810\" class=\"plotly-graph-div\" style=\"height:525px; width:100%;\"></div>            <script type=\"text/javascript\">                require([\"plotly\"], function(Plotly) {                    window.PLOTLYENV=window.PLOTLYENV || {};                                    if (document.getElementById(\"bf3acb4b-61ae-4abb-bea6-8d0bd18ca810\")) {                    Plotly.newPlot(                        \"bf3acb4b-61ae-4abb-bea6-8d0bd18ca810\",                        [{\"hovertemplate\":\"A=%{x}\\u003cbr\\u003eB=%{y}\\u003cextra\\u003e\\u003c\\u002fextra\\u003e\",\"legendgroup\":\"\",\"marker\":{\"color\":\"#636efa\",\"symbol\":\"circle\"},\"mode\":\"markers\",\"name\":\"\",\"orientation\":\"v\",\"showlegend\":false,\"x\":[-0.3727715678033577,-0.5519834492589083,1.0472098664426779,-0.93406419530831,0.39468287583674533,-0.07638965051071268,-1.5954507631449628,-2.047941014998162,-1.2304354478447597,-0.7164810193591911,-1.358021723716203,1.56358056613092,0.19777705777758456,0.9636233508282855,0.38967669218330275,0.8946729054090005,-0.5299064179126575,1.1295720151707909,-0.40454153894225364,2.6946026848127214,1.0119799561102483,0.1379895738554614,1.3349461750972536,1.3198238252026917,1.3476202767300742,-0.9522568940366845,-0.5085745708957891,-0.22367235684607845,1.4398893830418995,-0.7099336455798498,0.8268909370455656,0.22286015293621014,-0.5504915885332485,0.28779375831327303,-1.282156829780207,-0.47673153662257767,0.2950607311865968,0.2754216951792058,-1.4355347426815859,-0.9367466024897828,1.2784889247782163,1.1501048842492065,0.5838695143731807,-0.6741333245785835,0.7725394336924448,0.4016481661882381,0.7879836672284927,1.4067050493210624,1.0695362566930307,-0.8773774703839174],\"xaxis\":\"x\",\"y\":[-1.3020458938794728,-0.35735430948459657,0.03555247022744196,0.008684129023639794,0.7454386942500978,2.1457186574459297,1.365363012263689,0.21346771210669802,0.24635204081415832,-0.35559967019980415,-0.5450287611518704,1.2196515357919469,-0.17414111477780184,-0.6806982252398607,-0.13910693557550843,0.13455492175151343,0.8695121902904617,-0.47701740721783886,0.20416517754820776,1.9328576429763613,2.1287635559711156,0.7219163612728566,-0.5340547080068176,-0.3149664316321748,-0.26834621044532,1.338871439229367,0.9760365367421444,-0.2432996453282793,0.5365612572053157,1.9748295309203356,-1.0867293105603901,0.7133072140712012,-0.9677276596713297,0.1766257975704073,-0.08733319101591663,2.2022926079613008,-0.009809579339159824,0.5056296408014016,-0.3478510501931941,-1.1261302090127585,-0.0878501068170941,1.7610431010243626,-0.6361885237147484,1.355947007672313,0.33668724692377694,-0.2900989975031926,1.2022079200514417,0.4934363580162387,-0.45312661073227084,0.1231792512780067],\"yaxis\":\"y\",\"type\":\"scatter\"}],                        {\"template\":{\"data\":{\"histogram2dcontour\":[{\"type\":\"histogram2dcontour\",\"colorbar\":{\"outlinewidth\":0,\"ticks\":\"\"},\"colorscale\":[[0.0,\"#0d0887\"],[0.1111111111111111,\"#46039f\"],[0.2222222222222222,\"#7201a8\"],[0.3333333333333333,\"#9c179e\"],[0.4444444444444444,\"#bd3786\"],[0.5555555555555556,\"#d8576b\"],[0.6666666666666666,\"#ed7953\"],[0.7777777777777778,\"#fb9f3a\"],[0.8888888888888888,\"#fdca26\"],[1.0,\"#f0f921\"]]}],\"choropleth\":[{\"type\":\"choropleth\",\"colorbar\":{\"outlinewidth\":0,\"ticks\":\"\"}}],\"histogram2d\":[{\"type\":\"histogram2d\",\"colorbar\":{\"outlinewidth\":0,\"ticks\":\"\"},\"colorscale\":[[0.0,\"#0d0887\"],[0.1111111111111111,\"#46039f\"],[0.2222222222222222,\"#7201a8\"],[0.3333333333333333,\"#9c179e\"],[0.4444444444444444,\"#bd3786\"],[0.5555555555555556,\"#d8576b\"],[0.6666666666666666,\"#ed7953\"],[0.7777777777777778,\"#fb9f3a\"],[0.8888888888888888,\"#fdca26\"],[1.0,\"#f0f921\"]]}],\"heatmap\":[{\"type\":\"heatmap\",\"colorbar\":{\"outlinewidth\":0,\"ticks\":\"\"},\"colorscale\":[[0.0,\"#0d0887\"],[0.1111111111111111,\"#46039f\"],[0.2222222222222222,\"#7201a8\"],[0.3333333333333333,\"#9c179e\"],[0.4444444444444444,\"#bd3786\"],[0.5555555555555556,\"#d8576b\"],[0.6666666666666666,\"#ed7953\"],[0.7777777777777778,\"#fb9f3a\"],[0.8888888888888888,\"#fdca26\"],[1.0,\"#f0f921\"]]}],\"heatmapgl\":[{\"type\":\"heatmapgl\",\"colorbar\":{\"outlinewidth\":0,\"ticks\":\"\"},\"colorscale\":[[0.0,\"#0d0887\"],[0.1111111111111111,\"#46039f\"],[0.2222222222222222,\"#7201a8\"],[0.3333333333333333,\"#9c179e\"],[0.4444444444444444,\"#bd3786\"],[0.5555555555555556,\"#d8576b\"],[0.6666666666666666,\"#ed7953\"],[0.7777777777777778,\"#fb9f3a\"],[0.8888888888888888,\"#fdca26\"],[1.0,\"#f0f921\"]]}],\"contourcarpet\":[{\"type\":\"contourcarpet\",\"colorbar\":{\"outlinewidth\":0,\"ticks\":\"\"}}],\"contour\":[{\"type\":\"contour\",\"colorbar\":{\"outlinewidth\":0,\"ticks\":\"\"},\"colorscale\":[[0.0,\"#0d0887\"],[0.1111111111111111,\"#46039f\"],[0.2222222222222222,\"#7201a8\"],[0.3333333333333333,\"#9c179e\"],[0.4444444444444444,\"#bd3786\"],[0.5555555555555556,\"#d8576b\"],[0.6666666666666666,\"#ed7953\"],[0.7777777777777778,\"#fb9f3a\"],[0.8888888888888888,\"#fdca26\"],[1.0,\"#f0f921\"]]}],\"surface\":[{\"type\":\"surface\",\"colorbar\":{\"outlinewidth\":0,\"ticks\":\"\"},\"colorscale\":[[0.0,\"#0d0887\"],[0.1111111111111111,\"#46039f\"],[0.2222222222222222,\"#7201a8\"],[0.3333333333333333,\"#9c179e\"],[0.4444444444444444,\"#bd3786\"],[0.5555555555555556,\"#d8576b\"],[0.6666666666666666,\"#ed7953\"],[0.7777777777777778,\"#fb9f3a\"],[0.8888888888888888,\"#fdca26\"],[1.0,\"#f0f921\"]]}],\"mesh3d\":[{\"type\":\"mesh3d\",\"colorbar\":{\"outlinewidth\":0,\"ticks\":\"\"}}],\"scatter\":[{\"fillpattern\":{\"fillmode\":\"overlay\",\"size\":10,\"solidity\":0.2},\"type\":\"scatter\"}],\"parcoords\":[{\"type\":\"parcoords\",\"line\":{\"colorbar\":{\"outlinewidth\":0,\"ticks\":\"\"}}}],\"scatterpolargl\":[{\"type\":\"scatterpolargl\",\"marker\":{\"colorbar\":{\"outlinewidth\":0,\"ticks\":\"\"}}}],\"bar\":[{\"error_x\":{\"color\":\"#2a3f5f\"},\"error_y\":{\"color\":\"#2a3f5f\"},\"marker\":{\"line\":{\"color\":\"#E5ECF6\",\"width\":0.5},\"pattern\":{\"fillmode\":\"overlay\",\"size\":10,\"solidity\":0.2}},\"type\":\"bar\"}],\"scattergeo\":[{\"type\":\"scattergeo\",\"marker\":{\"colorbar\":{\"outlinewidth\":0,\"ticks\":\"\"}}}],\"scatterpolar\":[{\"type\":\"scatterpolar\",\"marker\":{\"colorbar\":{\"outlinewidth\":0,\"ticks\":\"\"}}}],\"histogram\":[{\"marker\":{\"pattern\":{\"fillmode\":\"overlay\",\"size\":10,\"solidity\":0.2}},\"type\":\"histogram\"}],\"scattergl\":[{\"type\":\"scattergl\",\"marker\":{\"colorbar\":{\"outlinewidth\":0,\"ticks\":\"\"}}}],\"scatter3d\":[{\"type\":\"scatter3d\",\"line\":{\"colorbar\":{\"outlinewidth\":0,\"ticks\":\"\"}},\"marker\":{\"colorbar\":{\"outlinewidth\":0,\"ticks\":\"\"}}}],\"scattermapbox\":[{\"type\":\"scattermapbox\",\"marker\":{\"colorbar\":{\"outlinewidth\":0,\"ticks\":\"\"}}}],\"scatterternary\":[{\"type\":\"scatterternary\",\"marker\":{\"colorbar\":{\"outlinewidth\":0,\"ticks\":\"\"}}}],\"scattercarpet\":[{\"type\":\"scattercarpet\",\"marker\":{\"colorbar\":{\"outlinewidth\":0,\"ticks\":\"\"}}}],\"carpet\":[{\"aaxis\":{\"endlinecolor\":\"#2a3f5f\",\"gridcolor\":\"white\",\"linecolor\":\"white\",\"minorgridcolor\":\"white\",\"startlinecolor\":\"#2a3f5f\"},\"baxis\":{\"endlinecolor\":\"#2a3f5f\",\"gridcolor\":\"white\",\"linecolor\":\"white\",\"minorgridcolor\":\"white\",\"startlinecolor\":\"#2a3f5f\"},\"type\":\"carpet\"}],\"table\":[{\"cells\":{\"fill\":{\"color\":\"#EBF0F8\"},\"line\":{\"color\":\"white\"}},\"header\":{\"fill\":{\"color\":\"#C8D4E3\"},\"line\":{\"color\":\"white\"}},\"type\":\"table\"}],\"barpolar\":[{\"marker\":{\"line\":{\"color\":\"#E5ECF6\",\"width\":0.5},\"pattern\":{\"fillmode\":\"overlay\",\"size\":10,\"solidity\":0.2}},\"type\":\"barpolar\"}],\"pie\":[{\"automargin\":true,\"type\":\"pie\"}]},\"layout\":{\"autotypenumbers\":\"strict\",\"colorway\":[\"#636efa\",\"#EF553B\",\"#00cc96\",\"#ab63fa\",\"#FFA15A\",\"#19d3f3\",\"#FF6692\",\"#B6E880\",\"#FF97FF\",\"#FECB52\"],\"font\":{\"color\":\"#2a3f5f\"},\"hovermode\":\"closest\",\"hoverlabel\":{\"align\":\"left\"},\"paper_bgcolor\":\"white\",\"plot_bgcolor\":\"#E5ECF6\",\"polar\":{\"bgcolor\":\"#E5ECF6\",\"angularaxis\":{\"gridcolor\":\"white\",\"linecolor\":\"white\",\"ticks\":\"\"},\"radialaxis\":{\"gridcolor\":\"white\",\"linecolor\":\"white\",\"ticks\":\"\"}},\"ternary\":{\"bgcolor\":\"#E5ECF6\",\"aaxis\":{\"gridcolor\":\"white\",\"linecolor\":\"white\",\"ticks\":\"\"},\"baxis\":{\"gridcolor\":\"white\",\"linecolor\":\"white\",\"ticks\":\"\"},\"caxis\":{\"gridcolor\":\"white\",\"linecolor\":\"white\",\"ticks\":\"\"}},\"coloraxis\":{\"colorbar\":{\"outlinewidth\":0,\"ticks\":\"\"}},\"colorscale\":{\"sequential\":[[0.0,\"#0d0887\"],[0.1111111111111111,\"#46039f\"],[0.2222222222222222,\"#7201a8\"],[0.3333333333333333,\"#9c179e\"],[0.4444444444444444,\"#bd3786\"],[0.5555555555555556,\"#d8576b\"],[0.6666666666666666,\"#ed7953\"],[0.7777777777777778,\"#fb9f3a\"],[0.8888888888888888,\"#fdca26\"],[1.0,\"#f0f921\"]],\"sequentialminus\":[[0.0,\"#0d0887\"],[0.1111111111111111,\"#46039f\"],[0.2222222222222222,\"#7201a8\"],[0.3333333333333333,\"#9c179e\"],[0.4444444444444444,\"#bd3786\"],[0.5555555555555556,\"#d8576b\"],[0.6666666666666666,\"#ed7953\"],[0.7777777777777778,\"#fb9f3a\"],[0.8888888888888888,\"#fdca26\"],[1.0,\"#f0f921\"]],\"diverging\":[[0,\"#8e0152\"],[0.1,\"#c51b7d\"],[0.2,\"#de77ae\"],[0.3,\"#f1b6da\"],[0.4,\"#fde0ef\"],[0.5,\"#f7f7f7\"],[0.6,\"#e6f5d0\"],[0.7,\"#b8e186\"],[0.8,\"#7fbc41\"],[0.9,\"#4d9221\"],[1,\"#276419\"]]},\"xaxis\":{\"gridcolor\":\"white\",\"linecolor\":\"white\",\"ticks\":\"\",\"title\":{\"standoff\":15},\"zerolinecolor\":\"white\",\"automargin\":true,\"zerolinewidth\":2},\"yaxis\":{\"gridcolor\":\"white\",\"linecolor\":\"white\",\"ticks\":\"\",\"title\":{\"standoff\":15},\"zerolinecolor\":\"white\",\"automargin\":true,\"zerolinewidth\":2},\"scene\":{\"xaxis\":{\"backgroundcolor\":\"#E5ECF6\",\"gridcolor\":\"white\",\"linecolor\":\"white\",\"showbackground\":true,\"ticks\":\"\",\"zerolinecolor\":\"white\",\"gridwidth\":2},\"yaxis\":{\"backgroundcolor\":\"#E5ECF6\",\"gridcolor\":\"white\",\"linecolor\":\"white\",\"showbackground\":true,\"ticks\":\"\",\"zerolinecolor\":\"white\",\"gridwidth\":2},\"zaxis\":{\"backgroundcolor\":\"#E5ECF6\",\"gridcolor\":\"white\",\"linecolor\":\"white\",\"showbackground\":true,\"ticks\":\"\",\"zerolinecolor\":\"white\",\"gridwidth\":2}},\"shapedefaults\":{\"line\":{\"color\":\"#2a3f5f\"}},\"annotationdefaults\":{\"arrowcolor\":\"#2a3f5f\",\"arrowhead\":0,\"arrowwidth\":1},\"geo\":{\"bgcolor\":\"white\",\"landcolor\":\"#E5ECF6\",\"subunitcolor\":\"white\",\"showland\":true,\"showlakes\":true,\"lakecolor\":\"white\"},\"title\":{\"x\":0.05},\"mapbox\":{\"style\":\"light\"}}},\"xaxis\":{\"anchor\":\"y\",\"domain\":[0.0,1.0],\"title\":{\"text\":\"A\"}},\"yaxis\":{\"anchor\":\"x\",\"domain\":[0.0,1.0],\"title\":{\"text\":\"B\"}},\"legend\":{\"tracegroupgap\":0},\"title\":{\"text\":\"Interactive Scatter Plot\"}},                        {\"responsive\": true}                    ).then(function(){\n",
       "                            \n",
       "var gd = document.getElementById('bf3acb4b-61ae-4abb-bea6-8d0bd18ca810');\n",
       "var x = new MutationObserver(function (mutations, observer) {{\n",
       "        var display = window.getComputedStyle(gd).display;\n",
       "        if (!display || display === 'none') {{\n",
       "            console.log([gd, 'removed!']);\n",
       "            Plotly.purge(gd);\n",
       "            observer.disconnect();\n",
       "        }}\n",
       "}});\n",
       "\n",
       "// Listen for the removal of the full notebook cells\n",
       "var notebookContainer = gd.closest('#notebook-container');\n",
       "if (notebookContainer) {{\n",
       "    x.observe(notebookContainer, {childList: true});\n",
       "}}\n",
       "\n",
       "// Listen for the clearing of the current output cell\n",
       "var outputEl = gd.closest('.output');\n",
       "if (outputEl) {{\n",
       "    x.observe(outputEl, {childList: true});\n",
       "}}\n",
       "\n",
       "                        })                };                });            </script>        </div>"
      ]
     },
     "metadata": {},
     "output_type": "display_data"
    }
   ],
   "source": [
    "# Step 6: Create an interactive Plotly plot\n",
    "print(\"\\nCreating Interactive Plotly Plot:\")\n",
    "fig = px.scatter(df_1, x='A', y='B', title='Interactive Scatter Plot')\n",
    "fig.show()"
   ]
  }
 ],
 "metadata": {
  "kernelspec": {
   "display_name": "Python 3",
   "language": "python",
   "name": "python3"
  },
  "language_info": {
   "codemirror_mode": {
    "name": "ipython",
    "version": 3
   },
   "file_extension": ".py",
   "mimetype": "text/x-python",
   "name": "python",
   "nbconvert_exporter": "python",
   "pygments_lexer": "ipython3",
   "version": "3.11.5"
  },
  "orig_nbformat": 4
 },
 "nbformat": 4,
 "nbformat_minor": 2
}
