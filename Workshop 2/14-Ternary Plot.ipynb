{
 "cells": [
  {
   "cell_type": "code",
   "execution_count": 2,
   "metadata": {},
   "outputs": [],
   "source": [
    "# Step 1: Import the necessary libraries\n",
    "import pandas as pd\n",
    "import numpy as np\n",
    "import chart_studio.plotly as py\n",
    "import cufflinks as cf\n",
    "import seaborn as sns\n",
    "import plotly.express as px\n",
    "import plotly.graph_objects as go# Step 1: Import necessary libraries\n",
    "from urllib.request import urlopen\n",
    "import json\n",
    "\n",
    "%matplotlib inline"
   ]
  },
  {
   "cell_type": "code",
   "execution_count": 3,
   "metadata": {},
   "outputs": [
    {
     "data": {
      "text/html": [
       "<div>\n",
       "<style scoped>\n",
       "    .dataframe tbody tr th:only-of-type {\n",
       "        vertical-align: middle;\n",
       "    }\n",
       "\n",
       "    .dataframe tbody tr th {\n",
       "        vertical-align: top;\n",
       "    }\n",
       "\n",
       "    .dataframe thead th {\n",
       "        text-align: right;\n",
       "    }\n",
       "</style>\n",
       "<table border=\"1\" class=\"dataframe\">\n",
       "  <thead>\n",
       "    <tr style=\"text-align: right;\">\n",
       "      <th></th>\n",
       "      <th>experiment_1</th>\n",
       "      <th>experiment_2</th>\n",
       "      <th>experiment_3</th>\n",
       "      <th>gender</th>\n",
       "      <th>group</th>\n",
       "    </tr>\n",
       "  </thead>\n",
       "  <tbody>\n",
       "    <tr>\n",
       "      <th>0</th>\n",
       "      <td>96.876065</td>\n",
       "      <td>93.417942</td>\n",
       "      <td>73.033193</td>\n",
       "      <td>male</td>\n",
       "      <td>control</td>\n",
       "    </tr>\n",
       "    <tr>\n",
       "      <th>1</th>\n",
       "      <td>87.301336</td>\n",
       "      <td>129.603395</td>\n",
       "      <td>66.056554</td>\n",
       "      <td>female</td>\n",
       "      <td>control</td>\n",
       "    </tr>\n",
       "    <tr>\n",
       "      <th>2</th>\n",
       "      <td>97.691312</td>\n",
       "      <td>106.187916</td>\n",
       "      <td>103.422709</td>\n",
       "      <td>male</td>\n",
       "      <td>treatment</td>\n",
       "    </tr>\n",
       "    <tr>\n",
       "      <th>3</th>\n",
       "      <td>102.978152</td>\n",
       "      <td>93.814682</td>\n",
       "      <td>56.995870</td>\n",
       "      <td>female</td>\n",
       "      <td>treatment</td>\n",
       "    </tr>\n",
       "    <tr>\n",
       "      <th>4</th>\n",
       "      <td>87.106993</td>\n",
       "      <td>107.019985</td>\n",
       "      <td>72.140292</td>\n",
       "      <td>male</td>\n",
       "      <td>control</td>\n",
       "    </tr>\n",
       "    <tr>\n",
       "      <th>...</th>\n",
       "      <td>...</td>\n",
       "      <td>...</td>\n",
       "      <td>...</td>\n",
       "      <td>...</td>\n",
       "      <td>...</td>\n",
       "    </tr>\n",
       "    <tr>\n",
       "      <th>95</th>\n",
       "      <td>108.156964</td>\n",
       "      <td>105.971541</td>\n",
       "      <td>64.524029</td>\n",
       "      <td>female</td>\n",
       "      <td>treatment</td>\n",
       "    </tr>\n",
       "    <tr>\n",
       "      <th>96</th>\n",
       "      <td>91.739992</td>\n",
       "      <td>111.125377</td>\n",
       "      <td>64.260993</td>\n",
       "      <td>male</td>\n",
       "      <td>control</td>\n",
       "    </tr>\n",
       "    <tr>\n",
       "      <th>97</th>\n",
       "      <td>95.410347</td>\n",
       "      <td>84.448322</td>\n",
       "      <td>75.505991</td>\n",
       "      <td>female</td>\n",
       "      <td>control</td>\n",
       "    </tr>\n",
       "    <tr>\n",
       "      <th>98</th>\n",
       "      <td>106.362406</td>\n",
       "      <td>115.522382</td>\n",
       "      <td>123.469689</td>\n",
       "      <td>male</td>\n",
       "      <td>treatment</td>\n",
       "    </tr>\n",
       "    <tr>\n",
       "      <th>99</th>\n",
       "      <td>94.269237</td>\n",
       "      <td>104.651064</td>\n",
       "      <td>92.387490</td>\n",
       "      <td>female</td>\n",
       "      <td>treatment</td>\n",
       "    </tr>\n",
       "  </tbody>\n",
       "</table>\n",
       "<p>100 rows × 5 columns</p>\n",
       "</div>"
      ],
      "text/plain": [
       "    experiment_1  experiment_2  experiment_3  gender      group\n",
       "0      96.876065     93.417942     73.033193    male    control\n",
       "1      87.301336    129.603395     66.056554  female    control\n",
       "2      97.691312    106.187916    103.422709    male  treatment\n",
       "3     102.978152     93.814682     56.995870  female  treatment\n",
       "4      87.106993    107.019985     72.140292    male    control\n",
       "..           ...           ...           ...     ...        ...\n",
       "95    108.156964    105.971541     64.524029  female  treatment\n",
       "96     91.739992    111.125377     64.260993    male    control\n",
       "97     95.410347     84.448322     75.505991  female    control\n",
       "98    106.362406    115.522382    123.469689    male  treatment\n",
       "99     94.269237    104.651064     92.387490  female  treatment\n",
       "\n",
       "[100 rows x 5 columns]"
      ]
     },
     "execution_count": 3,
     "metadata": {},
     "output_type": "execute_result"
    }
   ],
   "source": [
    "# Step 2: Load experimental data\n",
    "df_exp = px.data.experiment()\n",
    "df_exp"
   ]
  },
  {
   "cell_type": "code",
   "execution_count": 5,
   "metadata": {},
   "outputs": [
    {
     "data": {
      "application/vnd.plotly.v1+json": {
       "config": {
        "plotlyServerURL": "https://plot.ly"
       },
       "data": [
        {
         "a": [
          96.87606524104424,
          97.69131206443264,
          87.10699272862477,
          101.96789610675285,
          115.41235439928084,
          99.6172541280035,
          103.73322930003812,
          97.41300576349734,
          92.99825424103256,
          122.45771222849216,
          108.59703912851718,
          108.22082997242558,
          106.68567646477835,
          91.77160903135388,
          99.36447339671628,
          104.22003927060842,
          93.0952189075527,
          112.79439507221171,
          105.60548763385378,
          101.58409349079014,
          115.1745293454008,
          94.98263666330396,
          90.53505148745876,
          102.07570100045706,
          99.16252467399494,
          101.20197149116704,
          104.84390950771105,
          106.99313326342283,
          79.91007596007512,
          106.50911841835378,
          105.86488743479735,
          82.45375160201769,
          111.57539596013696,
          125.5204245339222,
          110.8333387158032,
          83.8308994934392,
          95.34256875179256,
          88.39280684001895,
          94.49978699806825,
          88.02583256666699,
          103.97741353721,
          94.75344491514376,
          89.98571694680537,
          106.45557892554882,
          100.58494014361828,
          100.17749269798531,
          101.3205252320304,
          102.77062539939328,
          91.73999230125186,
          106.36240592567884
         ],
         "b": [
          93.41794186205836,
          106.18791583747864,
          107.01998547962673,
          95.08891880671696,
          105.13793762581705,
          106.19263647197582,
          103.64300947168036,
          133.81460507676135,
          119.11313771972604,
          125.57402071454852,
          114.55578187212689,
          111.2655464432314,
          125.53691833259457,
          106.11835373702648,
          128.98211960060868,
          98.53000797317672,
          117.4908416284272,
          108.65787818177574,
          100.31935141294606,
          106.43997407520592,
          101.21513001268984,
          121.1716702929984,
          106.4738708421859,
          110.42502823706356,
          115.87027487805348,
          88.65923075825724,
          92.46744327013312,
          94.9336684921247,
          93.61647573375812,
          109.31644644934065,
          91.33176428280692,
          119.99866553631976,
          121.36550691186274,
          82.48071301855163,
          117.96705726440037,
          100.35633403365804,
          106.71264388984817,
          118.37686641258448,
          112.74449166670784,
          124.43908197971108,
          136.6736157228351,
          137.7421034460475,
          115.87117118675488,
          100.02567617575396,
          120.93374474771228,
          104.67370034744938,
          105.71129083938632,
          129.00227367829714,
          111.1253771258949,
          115.52238227700173
         ],
         "c": [
          73.03319261806172,
          103.42270945298878,
          72.14029211350231,
          111.81685216636848,
          96.28039576038483,
          97.9614052031477,
          92.6733901151631,
          85.86631202379608,
          85.53334112377719,
          110.15293673867568,
          74.57665002405716,
          96.23192720552623,
          93.42960247255095,
          84.86622957834284,
          93.68353539266592,
          84.78250808783284,
          75.317582722818,
          80.0527938687015,
          98.61238234207067,
          69.8017451924211,
          43.801175752611606,
          99.41949730696815,
          81.38217435797954,
          82.10664726913008,
          56.94730371262592,
          84.19773610407385,
          143.84643208361138,
          126.23854648453153,
          25.528902727455872,
          78.05352942296578,
          55.15574459592456,
          81.84612840166531,
          81.13130127077808,
          73.5436296499183,
          112.34804577447116,
          93.73716887483364,
          89.65914020129773,
          92.9848024432388,
          122.96692500755688,
          92.4851775911426,
          119.81130284877877,
          94.41014090268736,
          91.76224286416664,
          115.64157104921004,
          88.39586580661535,
          73.25099641056534,
          73.73084439286063,
          52.11112167838937,
          64.26099304241377,
          123.46968854252772
         ],
         "hovertemplate": "<b>%{hovertext}</b><br><br>gender=male<br>experiment_1=%{a}<br>experiment_2=%{b}<br>experiment_3=%{c}<extra></extra>",
         "hovertext": [
          "control",
          "treatment",
          "control",
          "treatment",
          "control",
          "treatment",
          "control",
          "treatment",
          "control",
          "treatment",
          "control",
          "treatment",
          "control",
          "treatment",
          "control",
          "treatment",
          "control",
          "treatment",
          "control",
          "treatment",
          "control",
          "treatment",
          "control",
          "treatment",
          "control",
          "treatment",
          "control",
          "treatment",
          "control",
          "treatment",
          "control",
          "treatment",
          "control",
          "treatment",
          "control",
          "treatment",
          "control",
          "treatment",
          "control",
          "treatment",
          "control",
          "treatment",
          "control",
          "treatment",
          "control",
          "treatment",
          "control",
          "treatment",
          "control",
          "treatment"
         ],
         "legendgroup": "male",
         "marker": {
          "color": "#636efa",
          "symbol": "circle"
         },
         "mode": "markers",
         "name": "male",
         "showlegend": true,
         "subplot": "ternary",
         "type": "scatterternary"
        },
        {
         "a": [
          87.30133583529452,
          102.97815237236064,
          106.650988962703,
          117.78402141130046,
          107.3273448045416,
          100.90801801849013,
          96.82862968379752,
          111.71546116211962,
          103.0370263885008,
          111.72093843245534,
          86.00067917492646,
          107.02254986229214,
          98.33722206969595,
          114.0102260806097,
          102.0848651185468,
          90.8419388241776,
          120.28494035137344,
          97.38937970522906,
          106.3602628726801,
          79.627960848754,
          106.53182376731462,
          96.78131630120166,
          97.3724477688896,
          113.34644089441548,
          115.19093327622592,
          102.15438485258844,
          88.86870748537869,
          79.42957481543229,
          102.75674518465028,
          116.57613978851472,
          101.6406509148884,
          103.47113336815175,
          90.52597523832,
          90.21247438443784,
          103.86151675950492,
          104.89507698266064,
          101.3127213745742,
          100.51923728271925,
          115.28544529751144,
          108.21594141266117,
          93.02648850216076,
          105.41326143638526,
          99.19797691786115,
          106.53740176869354,
          100.28481061716067,
          108.15167224711271,
          99.17755784625103,
          108.1569641420406,
          95.41034685726756,
          94.2692372873789
         ],
         "b": [
          129.60339543098098,
          93.8146817305033,
          94.01726233779416,
          115.39140402812605,
          134.4989267139621,
          98.49773453074349,
          118.28851360684462,
          143.68589169199117,
          113.49030757386136,
          97.29321087218584,
          102.8148302845022,
          107.32317041909052,
          120.66187625946849,
          113.19411909266884,
          96.76265139283652,
          129.77868819843576,
          128.10347266036626,
          93.97915042860836,
          99.20417350710404,
          126.39982636138508,
          107.28672680975174,
          127.24938650893672,
          103.45396742654022,
          114.28422515239596,
          102.76053814688797,
          112.09850718335584,
          99.895240748729,
          102.10062558140578,
          115.6401933040668,
          106.18926547435316,
          120.14042960264156,
          106.97465225615018,
          98.71650364377432,
          90.0325909853458,
          110.80555993405694,
          103.2406397128152,
          112.40253823162678,
          89.408981677046,
          113.71706929679968,
          133.07129566591016,
          108.40115937104376,
          86.92391691963303,
          130.11109471859805,
          102.49887098636997,
          99.53759126542052,
          137.99435901344117,
          88.57072941909104,
          105.97154070236674,
          84.44832175269606,
          104.6510642690364
         ],
         "c": [
          66.05655384860344,
          56.99587018931086,
          76.62440110809008,
          98.64938286937958,
          86.43129372481046,
          81.57649628140524,
          69.04800214309412,
          98.9968522988364,
          99.17539628161732,
          99.82865111091688,
          93.4909918341224,
          68.64741021134407,
          68.27452225629308,
          83.2783694811895,
          109.4336405768756,
          103.4072175445103,
          115.58696867308667,
          106.2872379688312,
          70.37381577213912,
          85.41912263305407,
          60.81179285463617,
          81.067194207433,
          64.5680823183638,
          114.0800090383604,
          76.81854612272282,
          96.88296557581286,
          95.86144929579538,
          105.39919358542934,
          85.0183158666797,
          89.43052556366084,
          103.6598229404085,
          99.3315284278933,
          105.87651496636612,
          94.68164053424204,
          103.02493792432377,
          113.1460990824864,
          103.5323883381708,
          91.39393639000464,
          103.10058008500462,
          110.2178377106918,
          87.60512026902201,
          91.16612042676972,
          83.04163191003826,
          89.8283252286509,
          116.9537068983502,
          105.05479181425382,
          78.65504095998203,
          64.52402923016913,
          75.50599064359672,
          92.38748987804956
         ],
         "hovertemplate": "<b>%{hovertext}</b><br><br>gender=female<br>experiment_1=%{a}<br>experiment_2=%{b}<br>experiment_3=%{c}<extra></extra>",
         "hovertext": [
          "control",
          "treatment",
          "control",
          "treatment",
          "control",
          "treatment",
          "control",
          "treatment",
          "control",
          "treatment",
          "control",
          "treatment",
          "control",
          "treatment",
          "control",
          "treatment",
          "control",
          "treatment",
          "control",
          "treatment",
          "control",
          "treatment",
          "control",
          "treatment",
          "control",
          "treatment",
          "control",
          "treatment",
          "control",
          "treatment",
          "control",
          "treatment",
          "control",
          "treatment",
          "control",
          "treatment",
          "control",
          "treatment",
          "control",
          "treatment",
          "control",
          "treatment",
          "control",
          "treatment",
          "control",
          "treatment",
          "control",
          "treatment",
          "control",
          "treatment"
         ],
         "legendgroup": "female",
         "marker": {
          "color": "#EF553B",
          "symbol": "circle"
         },
         "mode": "markers",
         "name": "female",
         "showlegend": true,
         "subplot": "ternary",
         "type": "scatterternary"
        }
       ],
       "layout": {
        "legend": {
         "title": {
          "text": "gender"
         },
         "tracegroupgap": 0
        },
        "margin": {
         "t": 60
        },
        "template": {
         "data": {
          "bar": [
           {
            "error_x": {
             "color": "#2a3f5f"
            },
            "error_y": {
             "color": "#2a3f5f"
            },
            "marker": {
             "line": {
              "color": "#E5ECF6",
              "width": 0.5
             },
             "pattern": {
              "fillmode": "overlay",
              "size": 10,
              "solidity": 0.2
             }
            },
            "type": "bar"
           }
          ],
          "barpolar": [
           {
            "marker": {
             "line": {
              "color": "#E5ECF6",
              "width": 0.5
             },
             "pattern": {
              "fillmode": "overlay",
              "size": 10,
              "solidity": 0.2
             }
            },
            "type": "barpolar"
           }
          ],
          "carpet": [
           {
            "aaxis": {
             "endlinecolor": "#2a3f5f",
             "gridcolor": "white",
             "linecolor": "white",
             "minorgridcolor": "white",
             "startlinecolor": "#2a3f5f"
            },
            "baxis": {
             "endlinecolor": "#2a3f5f",
             "gridcolor": "white",
             "linecolor": "white",
             "minorgridcolor": "white",
             "startlinecolor": "#2a3f5f"
            },
            "type": "carpet"
           }
          ],
          "choropleth": [
           {
            "colorbar": {
             "outlinewidth": 0,
             "ticks": ""
            },
            "type": "choropleth"
           }
          ],
          "contour": [
           {
            "colorbar": {
             "outlinewidth": 0,
             "ticks": ""
            },
            "colorscale": [
             [
              0,
              "#0d0887"
             ],
             [
              0.1111111111111111,
              "#46039f"
             ],
             [
              0.2222222222222222,
              "#7201a8"
             ],
             [
              0.3333333333333333,
              "#9c179e"
             ],
             [
              0.4444444444444444,
              "#bd3786"
             ],
             [
              0.5555555555555556,
              "#d8576b"
             ],
             [
              0.6666666666666666,
              "#ed7953"
             ],
             [
              0.7777777777777778,
              "#fb9f3a"
             ],
             [
              0.8888888888888888,
              "#fdca26"
             ],
             [
              1,
              "#f0f921"
             ]
            ],
            "type": "contour"
           }
          ],
          "contourcarpet": [
           {
            "colorbar": {
             "outlinewidth": 0,
             "ticks": ""
            },
            "type": "contourcarpet"
           }
          ],
          "heatmap": [
           {
            "colorbar": {
             "outlinewidth": 0,
             "ticks": ""
            },
            "colorscale": [
             [
              0,
              "#0d0887"
             ],
             [
              0.1111111111111111,
              "#46039f"
             ],
             [
              0.2222222222222222,
              "#7201a8"
             ],
             [
              0.3333333333333333,
              "#9c179e"
             ],
             [
              0.4444444444444444,
              "#bd3786"
             ],
             [
              0.5555555555555556,
              "#d8576b"
             ],
             [
              0.6666666666666666,
              "#ed7953"
             ],
             [
              0.7777777777777778,
              "#fb9f3a"
             ],
             [
              0.8888888888888888,
              "#fdca26"
             ],
             [
              1,
              "#f0f921"
             ]
            ],
            "type": "heatmap"
           }
          ],
          "heatmapgl": [
           {
            "colorbar": {
             "outlinewidth": 0,
             "ticks": ""
            },
            "colorscale": [
             [
              0,
              "#0d0887"
             ],
             [
              0.1111111111111111,
              "#46039f"
             ],
             [
              0.2222222222222222,
              "#7201a8"
             ],
             [
              0.3333333333333333,
              "#9c179e"
             ],
             [
              0.4444444444444444,
              "#bd3786"
             ],
             [
              0.5555555555555556,
              "#d8576b"
             ],
             [
              0.6666666666666666,
              "#ed7953"
             ],
             [
              0.7777777777777778,
              "#fb9f3a"
             ],
             [
              0.8888888888888888,
              "#fdca26"
             ],
             [
              1,
              "#f0f921"
             ]
            ],
            "type": "heatmapgl"
           }
          ],
          "histogram": [
           {
            "marker": {
             "pattern": {
              "fillmode": "overlay",
              "size": 10,
              "solidity": 0.2
             }
            },
            "type": "histogram"
           }
          ],
          "histogram2d": [
           {
            "colorbar": {
             "outlinewidth": 0,
             "ticks": ""
            },
            "colorscale": [
             [
              0,
              "#0d0887"
             ],
             [
              0.1111111111111111,
              "#46039f"
             ],
             [
              0.2222222222222222,
              "#7201a8"
             ],
             [
              0.3333333333333333,
              "#9c179e"
             ],
             [
              0.4444444444444444,
              "#bd3786"
             ],
             [
              0.5555555555555556,
              "#d8576b"
             ],
             [
              0.6666666666666666,
              "#ed7953"
             ],
             [
              0.7777777777777778,
              "#fb9f3a"
             ],
             [
              0.8888888888888888,
              "#fdca26"
             ],
             [
              1,
              "#f0f921"
             ]
            ],
            "type": "histogram2d"
           }
          ],
          "histogram2dcontour": [
           {
            "colorbar": {
             "outlinewidth": 0,
             "ticks": ""
            },
            "colorscale": [
             [
              0,
              "#0d0887"
             ],
             [
              0.1111111111111111,
              "#46039f"
             ],
             [
              0.2222222222222222,
              "#7201a8"
             ],
             [
              0.3333333333333333,
              "#9c179e"
             ],
             [
              0.4444444444444444,
              "#bd3786"
             ],
             [
              0.5555555555555556,
              "#d8576b"
             ],
             [
              0.6666666666666666,
              "#ed7953"
             ],
             [
              0.7777777777777778,
              "#fb9f3a"
             ],
             [
              0.8888888888888888,
              "#fdca26"
             ],
             [
              1,
              "#f0f921"
             ]
            ],
            "type": "histogram2dcontour"
           }
          ],
          "mesh3d": [
           {
            "colorbar": {
             "outlinewidth": 0,
             "ticks": ""
            },
            "type": "mesh3d"
           }
          ],
          "parcoords": [
           {
            "line": {
             "colorbar": {
              "outlinewidth": 0,
              "ticks": ""
             }
            },
            "type": "parcoords"
           }
          ],
          "pie": [
           {
            "automargin": true,
            "type": "pie"
           }
          ],
          "scatter": [
           {
            "fillpattern": {
             "fillmode": "overlay",
             "size": 10,
             "solidity": 0.2
            },
            "type": "scatter"
           }
          ],
          "scatter3d": [
           {
            "line": {
             "colorbar": {
              "outlinewidth": 0,
              "ticks": ""
             }
            },
            "marker": {
             "colorbar": {
              "outlinewidth": 0,
              "ticks": ""
             }
            },
            "type": "scatter3d"
           }
          ],
          "scattercarpet": [
           {
            "marker": {
             "colorbar": {
              "outlinewidth": 0,
              "ticks": ""
             }
            },
            "type": "scattercarpet"
           }
          ],
          "scattergeo": [
           {
            "marker": {
             "colorbar": {
              "outlinewidth": 0,
              "ticks": ""
             }
            },
            "type": "scattergeo"
           }
          ],
          "scattergl": [
           {
            "marker": {
             "colorbar": {
              "outlinewidth": 0,
              "ticks": ""
             }
            },
            "type": "scattergl"
           }
          ],
          "scattermapbox": [
           {
            "marker": {
             "colorbar": {
              "outlinewidth": 0,
              "ticks": ""
             }
            },
            "type": "scattermapbox"
           }
          ],
          "scatterpolar": [
           {
            "marker": {
             "colorbar": {
              "outlinewidth": 0,
              "ticks": ""
             }
            },
            "type": "scatterpolar"
           }
          ],
          "scatterpolargl": [
           {
            "marker": {
             "colorbar": {
              "outlinewidth": 0,
              "ticks": ""
             }
            },
            "type": "scatterpolargl"
           }
          ],
          "scatterternary": [
           {
            "marker": {
             "colorbar": {
              "outlinewidth": 0,
              "ticks": ""
             }
            },
            "type": "scatterternary"
           }
          ],
          "surface": [
           {
            "colorbar": {
             "outlinewidth": 0,
             "ticks": ""
            },
            "colorscale": [
             [
              0,
              "#0d0887"
             ],
             [
              0.1111111111111111,
              "#46039f"
             ],
             [
              0.2222222222222222,
              "#7201a8"
             ],
             [
              0.3333333333333333,
              "#9c179e"
             ],
             [
              0.4444444444444444,
              "#bd3786"
             ],
             [
              0.5555555555555556,
              "#d8576b"
             ],
             [
              0.6666666666666666,
              "#ed7953"
             ],
             [
              0.7777777777777778,
              "#fb9f3a"
             ],
             [
              0.8888888888888888,
              "#fdca26"
             ],
             [
              1,
              "#f0f921"
             ]
            ],
            "type": "surface"
           }
          ],
          "table": [
           {
            "cells": {
             "fill": {
              "color": "#EBF0F8"
             },
             "line": {
              "color": "white"
             }
            },
            "header": {
             "fill": {
              "color": "#C8D4E3"
             },
             "line": {
              "color": "white"
             }
            },
            "type": "table"
           }
          ]
         },
         "layout": {
          "annotationdefaults": {
           "arrowcolor": "#2a3f5f",
           "arrowhead": 0,
           "arrowwidth": 1
          },
          "autotypenumbers": "strict",
          "coloraxis": {
           "colorbar": {
            "outlinewidth": 0,
            "ticks": ""
           }
          },
          "colorscale": {
           "diverging": [
            [
             0,
             "#8e0152"
            ],
            [
             0.1,
             "#c51b7d"
            ],
            [
             0.2,
             "#de77ae"
            ],
            [
             0.3,
             "#f1b6da"
            ],
            [
             0.4,
             "#fde0ef"
            ],
            [
             0.5,
             "#f7f7f7"
            ],
            [
             0.6,
             "#e6f5d0"
            ],
            [
             0.7,
             "#b8e186"
            ],
            [
             0.8,
             "#7fbc41"
            ],
            [
             0.9,
             "#4d9221"
            ],
            [
             1,
             "#276419"
            ]
           ],
           "sequential": [
            [
             0,
             "#0d0887"
            ],
            [
             0.1111111111111111,
             "#46039f"
            ],
            [
             0.2222222222222222,
             "#7201a8"
            ],
            [
             0.3333333333333333,
             "#9c179e"
            ],
            [
             0.4444444444444444,
             "#bd3786"
            ],
            [
             0.5555555555555556,
             "#d8576b"
            ],
            [
             0.6666666666666666,
             "#ed7953"
            ],
            [
             0.7777777777777778,
             "#fb9f3a"
            ],
            [
             0.8888888888888888,
             "#fdca26"
            ],
            [
             1,
             "#f0f921"
            ]
           ],
           "sequentialminus": [
            [
             0,
             "#0d0887"
            ],
            [
             0.1111111111111111,
             "#46039f"
            ],
            [
             0.2222222222222222,
             "#7201a8"
            ],
            [
             0.3333333333333333,
             "#9c179e"
            ],
            [
             0.4444444444444444,
             "#bd3786"
            ],
            [
             0.5555555555555556,
             "#d8576b"
            ],
            [
             0.6666666666666666,
             "#ed7953"
            ],
            [
             0.7777777777777778,
             "#fb9f3a"
            ],
            [
             0.8888888888888888,
             "#fdca26"
            ],
            [
             1,
             "#f0f921"
            ]
           ]
          },
          "colorway": [
           "#636efa",
           "#EF553B",
           "#00cc96",
           "#ab63fa",
           "#FFA15A",
           "#19d3f3",
           "#FF6692",
           "#B6E880",
           "#FF97FF",
           "#FECB52"
          ],
          "font": {
           "color": "#2a3f5f"
          },
          "geo": {
           "bgcolor": "white",
           "lakecolor": "white",
           "landcolor": "#E5ECF6",
           "showlakes": true,
           "showland": true,
           "subunitcolor": "white"
          },
          "hoverlabel": {
           "align": "left"
          },
          "hovermode": "closest",
          "mapbox": {
           "style": "light"
          },
          "paper_bgcolor": "white",
          "plot_bgcolor": "#E5ECF6",
          "polar": {
           "angularaxis": {
            "gridcolor": "white",
            "linecolor": "white",
            "ticks": ""
           },
           "bgcolor": "#E5ECF6",
           "radialaxis": {
            "gridcolor": "white",
            "linecolor": "white",
            "ticks": ""
           }
          },
          "scene": {
           "xaxis": {
            "backgroundcolor": "#E5ECF6",
            "gridcolor": "white",
            "gridwidth": 2,
            "linecolor": "white",
            "showbackground": true,
            "ticks": "",
            "zerolinecolor": "white"
           },
           "yaxis": {
            "backgroundcolor": "#E5ECF6",
            "gridcolor": "white",
            "gridwidth": 2,
            "linecolor": "white",
            "showbackground": true,
            "ticks": "",
            "zerolinecolor": "white"
           },
           "zaxis": {
            "backgroundcolor": "#E5ECF6",
            "gridcolor": "white",
            "gridwidth": 2,
            "linecolor": "white",
            "showbackground": true,
            "ticks": "",
            "zerolinecolor": "white"
           }
          },
          "shapedefaults": {
           "line": {
            "color": "#2a3f5f"
           }
          },
          "ternary": {
           "aaxis": {
            "gridcolor": "white",
            "linecolor": "white",
            "ticks": ""
           },
           "baxis": {
            "gridcolor": "white",
            "linecolor": "white",
            "ticks": ""
           },
           "bgcolor": "#E5ECF6",
           "caxis": {
            "gridcolor": "white",
            "linecolor": "white",
            "ticks": ""
           }
          },
          "title": {
           "x": 0.05
          },
          "xaxis": {
           "automargin": true,
           "gridcolor": "white",
           "linecolor": "white",
           "ticks": "",
           "title": {
            "standoff": 15
           },
           "zerolinecolor": "white",
           "zerolinewidth": 2
          },
          "yaxis": {
           "automargin": true,
           "gridcolor": "white",
           "linecolor": "white",
           "ticks": "",
           "title": {
            "standoff": 15
           },
           "zerolinecolor": "white",
           "zerolinewidth": 2
          }
         }
        },
        "ternary": {
         "aaxis": {
          "title": {
           "text": "experiment_1"
          }
         },
         "baxis": {
          "title": {
           "text": "experiment_2"
          }
         },
         "caxis": {
          "title": {
           "text": "experiment_3"
          }
         },
         "domain": {
          "x": [
           0,
           1
          ],
          "y": [
           0,
           1
          ]
         }
        }
       }
      }
     },
     "metadata": {},
     "output_type": "display_data"
    }
   ],
   "source": [
    "# Step 3: Create a ternary scatter plot for experimental data\n",
    "ternary_scatter_plot = px.scatter_ternary(df_exp, a=\"experiment_1\", b=\"experiment_2\", \n",
    "                                        c='experiment_3', hover_name=\"group\", color=\"gender\")\n",
    "ternary_scatter_plot.show()"
   ]
  }
 ],
 "metadata": {
  "kernelspec": {
   "display_name": "Python 3",
   "language": "python",
   "name": "python3"
  },
  "language_info": {
   "codemirror_mode": {
    "name": "ipython",
    "version": 3
   },
   "file_extension": ".py",
   "mimetype": "text/x-python",
   "name": "python",
   "nbconvert_exporter": "python",
   "pygments_lexer": "ipython3",
   "version": "3.11.5"
  },
  "orig_nbformat": 4
 },
 "nbformat": 4,
 "nbformat_minor": 2
}
